{
 "cells": [
  {
   "cell_type": "markdown",
   "metadata": {},
   "source": [
    "## Introduction \n",
    "\n",
    "Notebook available on [https://github.com/openerror/SpatialCAHospitals](). Jump to the notebook's end for findings.\n",
    "\n",
    "How are hospitals in California distributed, and are they serving every place equally? With open data from the state government, we can attempt answering these questions ourselves, with awesome graphics to boot.\n",
    "\n",
    "This project draws on the following:\n",
    "- [Shapefiles](https://data.ca.gov/dataset/ca-geographic-boundaries) delineating state and county boundaries\n",
    "- [Data](https://www.oshpd.ca.gov/HID/Hospital-Utilization.html#Complete) on (non-federal) the utilization of non-federal hospitals\n",
    "- [Population estimates](https://data.ca.gov/dataset/california-population-projection-county-age-gender-and-ethnicity of California), county-by-county\n",
    "\n",
    "As of writing (July 2018), the most recent hospital data were generated in 2016. Therefore, population estimates from 2016 are used, instead of say census figures from 2010. In addition, as a first-pass analysis this project provides findings on a county-by-county basis. Finer geographical analysis is pending."
   ]
  },
  {
   "cell_type": "code",
   "execution_count": 1,
   "metadata": {},
   "outputs": [
    {
     "ename": "ModuleNotFoundError",
     "evalue": "No module named 'geopandas'",
     "output_type": "error",
     "traceback": [
      "\u001b[0;31m---------------------------------------------------------------------------\u001b[0m",
      "\u001b[0;31mModuleNotFoundError\u001b[0m                       Traceback (most recent call last)",
      "\u001b[0;32m<ipython-input-1-08470fbb0f65>\u001b[0m in \u001b[0;36m<module>\u001b[0;34m()\u001b[0m\n\u001b[1;32m      1\u001b[0m \u001b[0;32mimport\u001b[0m \u001b[0mpandas\u001b[0m \u001b[0;32mas\u001b[0m \u001b[0mpd\u001b[0m\u001b[0;34m\u001b[0m\u001b[0m\n\u001b[0;32m----> 2\u001b[0;31m \u001b[0;32mimport\u001b[0m \u001b[0mgeopandas\u001b[0m \u001b[0;32mas\u001b[0m \u001b[0mgpd\u001b[0m\u001b[0;34m\u001b[0m\u001b[0m\n\u001b[0m\u001b[1;32m      3\u001b[0m \u001b[0;32mimport\u001b[0m \u001b[0mmatplotlib\u001b[0m\u001b[0;34m.\u001b[0m\u001b[0mpyplot\u001b[0m \u001b[0;32mas\u001b[0m \u001b[0mplt\u001b[0m\u001b[0;34m\u001b[0m\u001b[0m\n\u001b[1;32m      4\u001b[0m \u001b[0;34m\u001b[0m\u001b[0m\n\u001b[1;32m      5\u001b[0m \u001b[0;32mimport\u001b[0m \u001b[0mseaborn\u001b[0m \u001b[0;32mas\u001b[0m \u001b[0msns\u001b[0m\u001b[0;34m\u001b[0m\u001b[0m\n",
      "\u001b[0;31mModuleNotFoundError\u001b[0m: No module named 'geopandas'"
     ]
    }
   ],
   "source": [
    "import pandas as pd\n",
    "import geopandas as gpd\n",
    "import matplotlib.pyplot as plt\n",
    "\n",
    "import seaborn as sns\n",
    "sns.set_style(\"darkgrid\")"
   ]
  },
  {
   "cell_type": "markdown",
   "metadata": {},
   "source": [
    "### Reading all data files"
   ]
  },
  {
   "cell_type": "code",
   "execution_count": null,
   "metadata": {},
   "outputs": [],
   "source": [
    "# Pickled all CSVs in advance\n",
    "\n",
    "# Fortunately, no cleaning needed for hospital data in the present analysis\n",
    "# Can take addresses etc as provided\n",
    "Hos16 = pd.read_pickle(\"data/Hos16.pickle\")\n",
    "\n",
    "countyShapes = gpd.read_file(\"data/boundaries/CA_Counties/CA_Counties_TIGER2016.shp\")\n",
    "stateShape = gpd.read_file(\"data/boundaries/CA_State/CA_State_TIGER2016.shp\")\n",
    "stateShape = stateShape.to_crs(epsg=4326)\n",
    "\n",
    "Pop16 = pd.read_pickle(\"data/CAPopProj.pickle\")"
   ]
  },
  {
   "cell_type": "markdown",
   "metadata": {},
   "source": [
    "### Initial plot of all reporting hospitals!\n",
    "Plotting all 500 hospitals that have reported data in 2016 onto \"California\". For reference, there are 4 non-reporting ones, negligible when spotting large scale spatial patterns. \n",
    "\n",
    "Perhaps not surprisingly, there are two overt clusters near Los Angeles and San Francisco."
   ]
  },
  {
   "cell_type": "code",
   "execution_count": null,
   "metadata": {},
   "outputs": [],
   "source": [
    "plt.rcParams[\"figure.figsize\"] = (8,8)\n",
    "plt.rcParams[\"font.size\"] = 14\n",
    "\n",
    "fig, ax = plt.subplots()\n",
    "ax.set_xlabel(\"Longtitude\")\n",
    "ax.set_ylabel(\"Longitude\")\n",
    "ax.set_title(\"Location of all reporting hospitals\")\n",
    "\n",
    "# Base layer: the outline of California\n",
    "stateShape.plot(ax=ax, alpha=0.2)\n",
    "\n",
    "# Plot location of all reporting hospitals\n",
    "ax.scatter(Hos16[\"LONGITUDE\"], Hos16[\"LATITUDE\"], s=2)\n",
    "\n",
    "# Finally, plot the big cities for reference of location\n",
    "bigCities = {\"Los Angeles\": (-118.2437, 34.052),\n",
    "             \"San Francisco\": (-122.4194, 37.7749)}\n",
    "for city, longLat in bigCities.items():\n",
    "    long, lat = longLat\n",
    "    ax.text(long-1, lat+0.12, city)\n",
    "    ax.scatter(long, lat, marker=\"X\")"
   ]
  },
  {
   "cell_type": "markdown",
   "metadata": {},
   "source": [
    "### Engineer and merge required features into 1 GeoPandas DF\n",
    "\n",
    "The absolute population and the number of hospitals vary greatly across counties. For a fair comparison, this project will use fractional values instead --- fractional, relative to the state total. \n",
    "\n",
    "A county *may be* considered underserved, if the proportion of hospitals it contains is lower than the proportional population. This project hasn't come up with a strict, quantitative definition for \"underserved\", but the broad idea remains valid."
   ]
  },
  {
   "cell_type": "code",
   "execution_count": null,
   "metadata": {},
   "outputs": [],
   "source": [
    "# Aggregate and obtain county populations; using 2016 projections to match 2016 hospital data\n",
    "Pop16 = Pop16.loc[ Pop16.year==2016, : ]\n",
    "totalPop16 = Pop16.pop_total.sum()\n",
    "\n",
    "# Calcluate fractional population of each county, relative to the state's total\n",
    "Pop16 = Pop16.groupby(\"county\").pop_total.sum()\n",
    "Pop16 = Pop16.reset_index()\n",
    "Pop16[\"pop_frac\"] = Pop16.loc[:, \"pop_total\"] / totalPop16\n",
    "Pop16 = Pop16.drop(columns=[\"pop_total\"])\n",
    "\n",
    "# Change to title case for later merging\n",
    "Pop16[\"county\"] = Pop16[\"county\"].str.title()"
   ]
  },
  {
   "cell_type": "code",
   "execution_count": null,
   "metadata": {},
   "outputs": [],
   "source": [
    "# Find number of hospitals in each county\n",
    "numberOfHospitals = Hos16.groupby(\"COUNTY\").count()\n",
    "numberOfHospitals = numberOfHospitals[\"OSHPD_ID\"].reset_index()\n",
    "numberOfHospitals.rename(columns={\"OSHPD_ID\":\"HosProp\", \"COUNTY\":\"county\"}, \n",
    "                         inplace=True)\n",
    "\n",
    "## Normalize against the total number of hospitals\n",
    "numberOfHospitals[\"HosProp\"] = numberOfHospitals[\"HosProp\"] / Hos16.shape[0]\n",
    "\n",
    "print(\"Number of counties represented in numberOfHospitals: {}\".format(numberOfHospitals.shape[0]))\n",
    "print(\"There are actually 58 counties though!\")"
   ]
  },
  {
   "cell_type": "markdown",
   "metadata": {},
   "source": [
    "To account for the missing counties (which contain no reporting hospitals), we must first identify them, and then add them to *numberOfHospitals*"
   ]
  },
  {
   "cell_type": "code",
   "execution_count": null,
   "metadata": {},
   "outputs": [],
   "source": [
    "# Obtain all the county names from shapefile\n",
    "countyShapes.rename(columns={\"NAME\": \"county\"}, inplace=True)\n",
    "countyNames = set(countyShapes.county)\n",
    "\n",
    "# Find 'missing' counties by set difference\n",
    "countyWithNoHos = list( countyNames.difference(numberOfHospitals.county) )\n",
    "missing = pd.DataFrame({\"county\": countyWithNoHos, \"HosProp\": [0 for i in range(len(countyWithNoHos))]})\n",
    "numberOfHospitals = pd.concat([numberOfHospitals, missing], axis=0)"
   ]
  },
  {
   "cell_type": "code",
   "execution_count": null,
   "metadata": {},
   "outputs": [],
   "source": [
    "print(\"Now there are {} hosptials represented in numberOfHospitals!\".format(numberOfHospitals.shape[0]))"
   ]
  },
  {
   "cell_type": "markdown",
   "metadata": {},
   "source": [
    "### Study and visualize the results!\n",
    "\n",
    "Now merge all data frames with the geopandas dataframe (*countyShapes*), and plot!"
   ]
  },
  {
   "cell_type": "code",
   "execution_count": null,
   "metadata": {},
   "outputs": [],
   "source": [
    "finalDF = pd.merge(countyShapes, numberOfHospitals, how='inner', on=['county'])\n",
    "finalDF = pd.merge(finalDF, Pop16, how='inner', on=['county'])\n",
    "finalDF = gpd.GeoDataFrame(finalDF)\n",
    "\n",
    "# Have to choose a projection!\n",
    "finalDF.crs = {'init' :'epsg:4326'} #Casting to Platte Carre; x-y are long and lat"
   ]
  },
  {
   "cell_type": "markdown",
   "metadata": {},
   "source": [
    "Before making fancy geoplots, here're some insights into the data.\n",
    "\n",
    "1. **Los Angeles** county has overwhelmingly more people AND hospitals, compared to any other single county.\n",
    "\n",
    "2. In terms of both population and the number of hospitals, almost all of the *top* 10 counties come from the same set. The exceptions are Contra Cosca and **San Francisco**. SF is especially well-served, because it is 8th place in the number of hospitals, but not even within top 10 in population!\n",
    "\n",
    "3. For both categories, the top 5 are from **southern California**, and the following 5 are all from **northern California**. No counties from in between.\n",
    "\n",
    "4. The *bottom* 10, however, tell a slightly different story. 'Amador', 'Glenn', 'San Benito', 'Tehama' are among the counties with the least hospitals, but population wise they are **not** in the bottom 10! Could they be underserved in terms of medical resources??"
   ]
  },
  {
   "cell_type": "code",
   "execution_count": null,
   "metadata": {},
   "outputs": [],
   "source": [
    "# Top 10 in both categories\n",
    "print(finalDF.loc[:, [\"HosProp\", \"county\"]].sort_values(by=\"HosProp\", ascending=False).head(10))\n",
    "print()\n",
    "print(finalDF.loc[:, [\"pop_frac\", \"county\"]].sort_values(by=\"pop_frac\", ascending=False).head(10))"
   ]
  },
  {
   "cell_type": "code",
   "execution_count": null,
   "metadata": {},
   "outputs": [],
   "source": [
    "bottom10_Hos = set( finalDF.loc[:, [\"HosProp\", \"county\"]].sort_values(by=\"HosProp\").head(10)[\"county\"] )\n",
    "bottom10_Pop = set( finalDF.loc[:, [\"pop_frac\", \"county\"]].sort_values(by=\"pop_frac\").head(10)[\"county\"] )\n",
    "\n",
    "print(\"The following hospitals are bottom 10 in terms of number of hospitals, but not in terms of population!\")\n",
    "bottom10_Hos.difference(bottom10_Pop)"
   ]
  },
  {
   "cell_type": "markdown",
   "metadata": {},
   "source": [
    "Now let's make some geoplots to visualze, in color, both the distribution of population and hospitals! The top 10 results, in both categories, may not come as a surprise; they both cluster around metropolitan areas, namely LA and SF.\n",
    "\n",
    "Let's study instead the bottom 10. Where are they located, and which are the \"underserved\" ones mentioned above?"
   ]
  },
  {
   "cell_type": "code",
   "execution_count": null,
   "metadata": {},
   "outputs": [],
   "source": [
    "# Coordinates come from Wikipedia pages for the counties\n",
    "# Rough but sufficient for present use\n",
    "underServedCounties = {\"Glenn\": (-122.39, 39.59),\n",
    "                       \"Amador\": (-120.66, 38.44),\n",
    "                       \"San Benito\": (-121.08, 36.61),\n",
    "                       \"Tehama\": (-122.23, 40.13)\n",
    "                      }"
   ]
  },
  {
   "cell_type": "code",
   "execution_count": null,
   "metadata": {},
   "outputs": [],
   "source": [
    "fig, ax = plt.subplots()\n",
    "ax.set_xlabel(\"Longtitude\")\n",
    "ax.set_ylabel(\"Longitude\")\n",
    "ax.set_title(\"Location of the 4 underserved counties\")\n",
    "\n",
    "# Base layer: the outline of California\n",
    "stateShape.plot(ax=ax, alpha=0.2)\n",
    "\n",
    "# Plot location of all reporting hospitals\n",
    "ax.scatter(Hos16[\"LONGITUDE\"], Hos16[\"LATITUDE\"], s=2)\n",
    "\n",
    "# Plot the SHAPE of the 4 counties\n",
    "underServedCountyShapes = finalDF.loc[ finalDF.county.isin(underServedCounties.keys()) , \"geometry\"]\n",
    "underServedCountyShapes.plot(ax=ax, color=\"red\", alpha=\"0.5\")\n",
    "\n",
    "# Text labels for the 4 identified underserved counties\n",
    "for place, longLat in underServedCounties.items():\n",
    "    long, lat = longLat\n",
    "    ax.text(long, lat, place, color=\"yellow\", size=16)\n",
    "    #ax.scatter(long, lat, marker=\"X\", s=1, color=\"red\")\n",
    "\n",
    "\n",
    "# Finally, plot the big cities for reference of location\n",
    "bigCities = {\"Los Angeles\": (-118.2437, 34.052),\n",
    "             \"San Francisco\": (-122.4194, 37.7749)}\n",
    "for city, longLat in bigCities.items():\n",
    "    long, lat = longLat\n",
    "    ax.text(long-1, lat+0.12, city, color=\"black\", size=12)\n",
    "    ax.scatter(long, lat, s=12, color='black')"
   ]
  },
  {
   "cell_type": "markdown",
   "metadata": {},
   "source": [
    "## Conclusion\n",
    "\n",
    "To summarize, here are the findings. Keeping in mind that there are 58 counties in total.\n",
    "\n",
    "1. **Los Angeles** county has overwhelmingly more people AND hospitals, compared to any other single county. 20+% versus less than 10%.\n",
    "\n",
    "2. **San Francisco** is also rather well-served. It is the 8th place in the number of hospitals, but doesn't even enter into top 10 population-wise.\n",
    "\n",
    "3. **Top 10 counties** --- in both population and hospital numbers --- come from either northern or southern California; they also tend to neighbor LA/SF. \"Middle\" counties are not represented at all. \n",
    "\n",
    "4. **Underserved counties**: (Amador, Glenn, San Benito, Tehama). Population wise, they have more than the bottom 10. However, they ARE within the bottom 10, in terms of the number of hospitals they contain."
   ]
  },
  {
   "cell_type": "markdown",
   "metadata": {},
   "source": [
    "### Further directions for exploration\n",
    "1. Study the availability of specialty care --- e.g. psychiatry\n",
    "2. Compare the hospital/population ratio with other states or developed nations"
   ]
  }
 ],
 "metadata": {
  "kernelspec": {
   "display_name": "Python 3",
   "language": "python",
   "name": "python3"
  },
  "language_info": {
   "codemirror_mode": {
    "name": "ipython",
    "version": 3
   },
   "file_extension": ".py",
   "mimetype": "text/x-python",
   "name": "python",
   "nbconvert_exporter": "python",
   "pygments_lexer": "ipython3",
   "version": "3.6.6"
  }
 },
 "nbformat": 4,
 "nbformat_minor": 2
}
